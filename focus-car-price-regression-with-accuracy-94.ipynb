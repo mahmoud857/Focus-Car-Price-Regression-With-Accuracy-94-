{
 "cells": [
  {
   "cell_type": "code",
   "execution_count": 1,
   "id": "acb90fb5",
   "metadata": {
    "execution": {
     "iopub.execute_input": "2021-09-05T09:45:04.223649Z",
     "iopub.status.busy": "2021-09-05T09:45:04.222598Z",
     "iopub.status.idle": "2021-09-05T09:45:05.390082Z",
     "shell.execute_reply": "2021-09-05T09:45:05.389449Z",
     "shell.execute_reply.started": "2021-09-05T09:41:26.818943Z"
    },
    "papermill": {
     "duration": 1.184696,
     "end_time": "2021-09-05T09:45:05.390267",
     "exception": false,
     "start_time": "2021-09-05T09:45:04.205571",
     "status": "completed"
    },
    "tags": []
   },
   "outputs": [],
   "source": [
    "import pandas as pd \n",
    "import numpy as np\n",
    "from sklearn.preprocessing import LabelEncoder\n",
    "from sklearn.preprocessing import MinMaxScaler\n",
    "from sklearn.model_selection import train_test_split\n",
    "from sklearn.ensemble import RandomForestRegressor\n",
    "from sklearn.linear_model import LinearRegression\n",
    "from sklearn.tree import DecisionTreeRegressor\n",
    "from sklearn.metrics import mean_squared_error"
   ]
  },
  {
   "cell_type": "code",
   "execution_count": 2,
   "id": "2dfd20ee",
   "metadata": {
    "execution": {
     "iopub.execute_input": "2021-09-05T09:45:05.420858Z",
     "iopub.status.busy": "2021-09-05T09:45:05.420202Z",
     "iopub.status.idle": "2021-09-05T09:45:05.470455Z",
     "shell.execute_reply": "2021-09-05T09:45:05.469972Z",
     "shell.execute_reply.started": "2021-09-05T09:35:39.373545Z"
    },
    "papermill": {
     "duration": 0.067186,
     "end_time": "2021-09-05T09:45:05.470585",
     "exception": false,
     "start_time": "2021-09-05T09:45:05.403399",
     "status": "completed"
    },
    "tags": []
   },
   "outputs": [
    {
     "data": {
      "text/html": [
       "<div>\n",
       "<style scoped>\n",
       "    .dataframe tbody tr th:only-of-type {\n",
       "        vertical-align: middle;\n",
       "    }\n",
       "\n",
       "    .dataframe tbody tr th {\n",
       "        vertical-align: top;\n",
       "    }\n",
       "\n",
       "    .dataframe thead th {\n",
       "        text-align: right;\n",
       "    }\n",
       "</style>\n",
       "<table border=\"1\" class=\"dataframe\">\n",
       "  <thead>\n",
       "    <tr style=\"text-align: right;\">\n",
       "      <th></th>\n",
       "      <th>model</th>\n",
       "      <th>year</th>\n",
       "      <th>price</th>\n",
       "      <th>transmission</th>\n",
       "      <th>mileage</th>\n",
       "      <th>fuelType</th>\n",
       "      <th>engineSize</th>\n",
       "    </tr>\n",
       "  </thead>\n",
       "  <tbody>\n",
       "    <tr>\n",
       "      <th>0</th>\n",
       "      <td>Focus</td>\n",
       "      <td>2016</td>\n",
       "      <td>8000</td>\n",
       "      <td>Manual</td>\n",
       "      <td>38852</td>\n",
       "      <td>Petrol</td>\n",
       "      <td>1.0</td>\n",
       "    </tr>\n",
       "    <tr>\n",
       "      <th>1</th>\n",
       "      <td>Focus</td>\n",
       "      <td>2019</td>\n",
       "      <td>13400</td>\n",
       "      <td>Manual</td>\n",
       "      <td>11952</td>\n",
       "      <td>Petrol</td>\n",
       "      <td>1.0</td>\n",
       "    </tr>\n",
       "    <tr>\n",
       "      <th>2</th>\n",
       "      <td>Focus</td>\n",
       "      <td>2019</td>\n",
       "      <td>14600</td>\n",
       "      <td>Manual</td>\n",
       "      <td>22142</td>\n",
       "      <td>Petrol</td>\n",
       "      <td>1.5</td>\n",
       "    </tr>\n",
       "    <tr>\n",
       "      <th>3</th>\n",
       "      <td>Focus</td>\n",
       "      <td>2016</td>\n",
       "      <td>9450</td>\n",
       "      <td>Manual</td>\n",
       "      <td>14549</td>\n",
       "      <td>Diesel</td>\n",
       "      <td>1.6</td>\n",
       "    </tr>\n",
       "    <tr>\n",
       "      <th>4</th>\n",
       "      <td>Focus</td>\n",
       "      <td>2015</td>\n",
       "      <td>9999</td>\n",
       "      <td>Manual</td>\n",
       "      <td>7010</td>\n",
       "      <td>Diesel</td>\n",
       "      <td>1.6</td>\n",
       "    </tr>\n",
       "  </tbody>\n",
       "</table>\n",
       "</div>"
      ],
      "text/plain": [
       "    model  year  price transmission  mileage fuelType  engineSize\n",
       "0   Focus  2016   8000       Manual    38852   Petrol         1.0\n",
       "1   Focus  2019  13400       Manual    11952   Petrol         1.0\n",
       "2   Focus  2019  14600       Manual    22142   Petrol         1.5\n",
       "3   Focus  2016   9450       Manual    14549   Diesel         1.6\n",
       "4   Focus  2015   9999       Manual     7010   Diesel         1.6"
      ]
     },
     "execution_count": 2,
     "metadata": {},
     "output_type": "execute_result"
    }
   ],
   "source": [
    "focus=pd.read_csv(\"../input/used-car-dataset-ford-and-mercedes/focus.csv\")\n",
    "focus.head()"
   ]
  },
  {
   "cell_type": "code",
   "execution_count": 3,
   "id": "9c7da5be",
   "metadata": {
    "execution": {
     "iopub.execute_input": "2021-09-05T09:45:05.503332Z",
     "iopub.status.busy": "2021-09-05T09:45:05.502655Z",
     "iopub.status.idle": "2021-09-05T09:45:05.506755Z",
     "shell.execute_reply": "2021-09-05T09:45:05.506272Z",
     "shell.execute_reply.started": "2021-09-05T09:36:43.253000Z"
    },
    "papermill": {
     "duration": 0.023141,
     "end_time": "2021-09-05T09:45:05.506907",
     "exception": false,
     "start_time": "2021-09-05T09:45:05.483766",
     "status": "completed"
    },
    "tags": []
   },
   "outputs": [
    {
     "data": {
      "text/plain": [
       "(5454, 7)"
      ]
     },
     "execution_count": 3,
     "metadata": {},
     "output_type": "execute_result"
    }
   ],
   "source": [
    "focus.shape"
   ]
  },
  {
   "cell_type": "code",
   "execution_count": 4,
   "id": "7d207885",
   "metadata": {
    "execution": {
     "iopub.execute_input": "2021-09-05T09:45:05.541548Z",
     "iopub.status.busy": "2021-09-05T09:45:05.540907Z",
     "iopub.status.idle": "2021-09-05T09:45:05.543743Z",
     "shell.execute_reply": "2021-09-05T09:45:05.544164Z",
     "shell.execute_reply.started": "2021-09-05T09:36:58.288493Z"
    },
    "papermill": {
     "duration": 0.02419,
     "end_time": "2021-09-05T09:45:05.544331",
     "exception": false,
     "start_time": "2021-09-05T09:45:05.520141",
     "status": "completed"
    },
    "tags": []
   },
   "outputs": [
    {
     "data": {
      "text/plain": [
       "model           0\n",
       "year            0\n",
       "price           0\n",
       "transmission    0\n",
       "mileage         0\n",
       "fuelType        0\n",
       "engineSize      0\n",
       "dtype: int64"
      ]
     },
     "execution_count": 4,
     "metadata": {},
     "output_type": "execute_result"
    }
   ],
   "source": [
    "focus.isnull().sum()"
   ]
  },
  {
   "cell_type": "code",
   "execution_count": 5,
   "id": "7a3687c7",
   "metadata": {
    "execution": {
     "iopub.execute_input": "2021-09-05T09:45:05.574231Z",
     "iopub.status.busy": "2021-09-05T09:45:05.573692Z",
     "iopub.status.idle": "2021-09-05T09:45:05.585789Z",
     "shell.execute_reply": "2021-09-05T09:45:05.585210Z",
     "shell.execute_reply.started": "2021-09-05T09:37:07.724116Z"
    },
    "papermill": {
     "duration": 0.0282,
     "end_time": "2021-09-05T09:45:05.585922",
     "exception": false,
     "start_time": "2021-09-05T09:45:05.557722",
     "status": "completed"
    },
    "tags": []
   },
   "outputs": [
    {
     "data": {
      "text/plain": [
       "<bound method NDFrame.describe of        model  year  price transmission  mileage fuelType  engineSize\n",
       "0      Focus  2016   8000       Manual    38852   Petrol         1.0\n",
       "1      Focus  2019  13400       Manual    11952   Petrol         1.0\n",
       "2      Focus  2019  14600       Manual    22142   Petrol         1.5\n",
       "3      Focus  2016   9450       Manual    14549   Diesel         1.6\n",
       "4      Focus  2015   9999       Manual     7010   Diesel         1.6\n",
       "...      ...   ...    ...          ...      ...      ...         ...\n",
       "5449   Focus  2019  18745       Manual     7855   Diesel         2.0\n",
       "5450   Focus  2019  16350       Manual    13891   Petrol         1.0\n",
       "5451   Focus  2019  16850       Manual    13452   Petrol         1.0\n",
       "5452   Focus  2019  17310    Automatic    13376   Petrol         1.0\n",
       "5453   Focus  2019  17610    Automatic     7886   Petrol         1.0\n",
       "\n",
       "[5454 rows x 7 columns]>"
      ]
     },
     "execution_count": 5,
     "metadata": {},
     "output_type": "execute_result"
    }
   ],
   "source": [
    "focus.describe"
   ]
  },
  {
   "cell_type": "code",
   "execution_count": 6,
   "id": "1e632420",
   "metadata": {
    "execution": {
     "iopub.execute_input": "2021-09-05T09:45:05.624646Z",
     "iopub.status.busy": "2021-09-05T09:45:05.624045Z",
     "iopub.status.idle": "2021-09-05T09:45:05.627860Z",
     "shell.execute_reply": "2021-09-05T09:45:05.627387Z",
     "shell.execute_reply.started": "2021-09-05T09:37:15.503141Z"
    },
    "papermill": {
     "duration": 0.028437,
     "end_time": "2021-09-05T09:45:05.627987",
     "exception": false,
     "start_time": "2021-09-05T09:45:05.599550",
     "status": "completed"
    },
    "tags": []
   },
   "outputs": [
    {
     "data": {
      "text/plain": [
       "<bound method DataFrame.info of        model  year  price transmission  mileage fuelType  engineSize\n",
       "0      Focus  2016   8000       Manual    38852   Petrol         1.0\n",
       "1      Focus  2019  13400       Manual    11952   Petrol         1.0\n",
       "2      Focus  2019  14600       Manual    22142   Petrol         1.5\n",
       "3      Focus  2016   9450       Manual    14549   Diesel         1.6\n",
       "4      Focus  2015   9999       Manual     7010   Diesel         1.6\n",
       "...      ...   ...    ...          ...      ...      ...         ...\n",
       "5449   Focus  2019  18745       Manual     7855   Diesel         2.0\n",
       "5450   Focus  2019  16350       Manual    13891   Petrol         1.0\n",
       "5451   Focus  2019  16850       Manual    13452   Petrol         1.0\n",
       "5452   Focus  2019  17310    Automatic    13376   Petrol         1.0\n",
       "5453   Focus  2019  17610    Automatic     7886   Petrol         1.0\n",
       "\n",
       "[5454 rows x 7 columns]>"
      ]
     },
     "execution_count": 6,
     "metadata": {},
     "output_type": "execute_result"
    }
   ],
   "source": [
    "focus.info"
   ]
  },
  {
   "cell_type": "code",
   "execution_count": 7,
   "id": "04a99f4b",
   "metadata": {
    "execution": {
     "iopub.execute_input": "2021-09-05T09:45:05.664574Z",
     "iopub.status.busy": "2021-09-05T09:45:05.663715Z",
     "iopub.status.idle": "2021-09-05T09:45:05.667419Z",
     "shell.execute_reply": "2021-09-05T09:45:05.667845Z",
     "shell.execute_reply.started": "2021-09-05T09:39:50.127596Z"
    },
    "papermill": {
     "duration": 0.026253,
     "end_time": "2021-09-05T09:45:05.668012",
     "exception": false,
     "start_time": "2021-09-05T09:45:05.641759",
     "status": "completed"
    },
    "tags": []
   },
   "outputs": [
    {
     "data": {
      "text/plain": [
       "{0: ' Focus'}"
      ]
     },
     "execution_count": 7,
     "metadata": {},
     "output_type": "execute_result"
    }
   ],
   "source": [
    "encoder = LabelEncoder()\n",
    "focus['model'] = encoder.fit_transform(focus['model'])\n",
    "model_mapping = {index : label for index, label in enumerate(encoder.classes_)}\n",
    "model_mapping"
   ]
  },
  {
   "cell_type": "code",
   "execution_count": 8,
   "id": "997a893f",
   "metadata": {
    "execution": {
     "iopub.execute_input": "2021-09-05T09:45:05.704224Z",
     "iopub.status.busy": "2021-09-05T09:45:05.703543Z",
     "iopub.status.idle": "2021-09-05T09:45:05.706867Z",
     "shell.execute_reply": "2021-09-05T09:45:05.707248Z",
     "shell.execute_reply.started": "2021-09-05T09:40:06.098061Z"
    },
    "papermill": {
     "duration": 0.025166,
     "end_time": "2021-09-05T09:45:05.707410",
     "exception": false,
     "start_time": "2021-09-05T09:45:05.682244",
     "status": "completed"
    },
    "tags": []
   },
   "outputs": [
    {
     "data": {
      "text/plain": [
       "{0: 'Automatic', 1: 'Manual', 2: 'Semi-Auto'}"
      ]
     },
     "execution_count": 8,
     "metadata": {},
     "output_type": "execute_result"
    }
   ],
   "source": [
    "focus['transmission'] = encoder.fit_transform(focus['transmission'])\n",
    "transmission_mapping = {index : label for index, label in enumerate(encoder.classes_)}\n",
    "transmission_mapping"
   ]
  },
  {
   "cell_type": "code",
   "execution_count": 9,
   "id": "718e7832",
   "metadata": {
    "execution": {
     "iopub.execute_input": "2021-09-05T09:45:05.743811Z",
     "iopub.status.busy": "2021-09-05T09:45:05.742927Z",
     "iopub.status.idle": "2021-09-05T09:45:05.746333Z",
     "shell.execute_reply": "2021-09-05T09:45:05.746779Z",
     "shell.execute_reply.started": "2021-09-05T09:40:25.638602Z"
    },
    "papermill": {
     "duration": 0.025087,
     "end_time": "2021-09-05T09:45:05.746938",
     "exception": false,
     "start_time": "2021-09-05T09:45:05.721851",
     "status": "completed"
    },
    "tags": []
   },
   "outputs": [
    {
     "data": {
      "text/plain": [
       "{0: 'Diesel', 1: 'Petrol'}"
      ]
     },
     "execution_count": 9,
     "metadata": {},
     "output_type": "execute_result"
    }
   ],
   "source": [
    "focus['fuelType'] = encoder.fit_transform(focus['fuelType'])\n",
    "fuelType_mapping = {index : label for index, label in enumerate(encoder.classes_)}\n",
    "fuelType_mapping"
   ]
  },
  {
   "cell_type": "code",
   "execution_count": 10,
   "id": "c4011c9b",
   "metadata": {
    "execution": {
     "iopub.execute_input": "2021-09-05T09:45:05.780861Z",
     "iopub.status.busy": "2021-09-05T09:45:05.778415Z",
     "iopub.status.idle": "2021-09-05T09:45:05.787267Z",
     "shell.execute_reply": "2021-09-05T09:45:05.786660Z",
     "shell.execute_reply.started": "2021-09-05T09:40:41.728916Z"
    },
    "papermill": {
     "duration": 0.025927,
     "end_time": "2021-09-05T09:45:05.787400",
     "exception": false,
     "start_time": "2021-09-05T09:45:05.761473",
     "status": "completed"
    },
    "tags": []
   },
   "outputs": [],
   "source": [
    "x = focus.drop('price', axis=1)\n",
    "y = focus['price']"
   ]
  },
  {
   "cell_type": "code",
   "execution_count": 11,
   "id": "7a9616da",
   "metadata": {
    "execution": {
     "iopub.execute_input": "2021-09-05T09:45:05.823486Z",
     "iopub.status.busy": "2021-09-05T09:45:05.822904Z",
     "iopub.status.idle": "2021-09-05T09:45:05.832473Z",
     "shell.execute_reply": "2021-09-05T09:45:05.831919Z",
     "shell.execute_reply.started": "2021-09-05T09:41:08.470164Z"
    },
    "papermill": {
     "duration": 0.030302,
     "end_time": "2021-09-05T09:45:05.832601",
     "exception": false,
     "start_time": "2021-09-05T09:45:05.802299",
     "status": "completed"
    },
    "tags": []
   },
   "outputs": [
    {
     "name": "stdout",
     "output_type": "stream",
     "text": [
      "x \n",
      " [[0.         0.77777778 0.5        0.21870268 1.         0.4       ]\n",
      " [0.         0.94444444 0.5        0.06727538 1.         0.4       ]\n",
      " [0.         0.94444444 0.5        0.12463762 1.         0.6       ]\n",
      " [0.         0.77777778 0.5        0.08189459 0.         0.64      ]\n",
      " [0.         0.72222222 0.5        0.03945554 0.         0.64      ]\n",
      " [0.         0.77777778 0.         0.15083623 1.         0.4       ]\n",
      " [0.         0.88888889 0.5        0.0907832  1.         0.4       ]\n",
      " [0.         1.         0.5        0.02757778 1.         0.92      ]\n",
      " [0.         0.88888889 0.5        0.17423709 1.         0.6       ]\n",
      " [0.         0.94444444 0.5        0.01688217 0.         0.6       ]]\n",
      "y \n",
      " 0     8000\n",
      "1    13400\n",
      "2    14600\n",
      "3     9450\n",
      "4     9999\n",
      "5    10699\n",
      "6    12849\n",
      "7    24999\n",
      "8    11999\n",
      "9    19500\n",
      "Name: price, dtype: int64\n"
     ]
    }
   ],
   "source": [
    "scaler = MinMaxScaler(copy=True, feature_range=(0, 1))\n",
    "X = scaler.fit_transform(x)\n",
    "\n",
    "#showing data\n",
    "print('x \\n' , X[:10])\n",
    "print('y \\n' , y[:10])"
   ]
  },
  {
   "cell_type": "code",
   "execution_count": 12,
   "id": "c997322f",
   "metadata": {
    "execution": {
     "iopub.execute_input": "2021-09-05T09:45:05.869342Z",
     "iopub.status.busy": "2021-09-05T09:45:05.868228Z",
     "iopub.status.idle": "2021-09-05T09:45:05.872475Z",
     "shell.execute_reply": "2021-09-05T09:45:05.873101Z",
     "shell.execute_reply.started": "2021-09-05T09:41:43.783896Z"
    },
    "papermill": {
     "duration": 0.025715,
     "end_time": "2021-09-05T09:45:05.873288",
     "exception": false,
     "start_time": "2021-09-05T09:45:05.847573",
     "status": "completed"
    },
    "tags": []
   },
   "outputs": [],
   "source": [
    "x_train,x_test,y_train,y_test=train_test_split(x,y,test_size=30,random_state=0)"
   ]
  },
  {
   "cell_type": "code",
   "execution_count": 13,
   "id": "73f43e0e",
   "metadata": {
    "execution": {
     "iopub.execute_input": "2021-09-05T09:45:05.908238Z",
     "iopub.status.busy": "2021-09-05T09:45:05.907531Z",
     "iopub.status.idle": "2021-09-05T09:45:05.911060Z",
     "shell.execute_reply": "2021-09-05T09:45:05.911661Z",
     "shell.execute_reply.started": "2021-09-05T09:41:52.086515Z"
    },
    "papermill": {
     "duration": 0.023537,
     "end_time": "2021-09-05T09:45:05.911899",
     "exception": false,
     "start_time": "2021-09-05T09:45:05.888362",
     "status": "completed"
    },
    "tags": []
   },
   "outputs": [
    {
     "name": "stdout",
     "output_type": "stream",
     "text": [
      "x_train shape is: (5424, 6)\n"
     ]
    }
   ],
   "source": [
    "print(\"x_train shape is:\",x_train.shape)"
   ]
  },
  {
   "cell_type": "code",
   "execution_count": 14,
   "id": "7d23f782",
   "metadata": {
    "execution": {
     "iopub.execute_input": "2021-09-05T09:45:05.948175Z",
     "iopub.status.busy": "2021-09-05T09:45:05.947399Z",
     "iopub.status.idle": "2021-09-05T09:45:05.951596Z",
     "shell.execute_reply": "2021-09-05T09:45:05.951015Z",
     "shell.execute_reply.started": "2021-09-05T09:41:59.362025Z"
    },
    "papermill": {
     "duration": 0.023628,
     "end_time": "2021-09-05T09:45:05.951744",
     "exception": false,
     "start_time": "2021-09-05T09:45:05.928116",
     "status": "completed"
    },
    "tags": []
   },
   "outputs": [
    {
     "name": "stdout",
     "output_type": "stream",
     "text": [
      "y_train shape is: (5424,)\n"
     ]
    }
   ],
   "source": [
    "print(\"y_train shape is:\",y_train.shape)"
   ]
  },
  {
   "cell_type": "code",
   "execution_count": 15,
   "id": "be0ace03",
   "metadata": {
    "execution": {
     "iopub.execute_input": "2021-09-05T09:45:05.987659Z",
     "iopub.status.busy": "2021-09-05T09:45:05.986859Z",
     "iopub.status.idle": "2021-09-05T09:45:05.990615Z",
     "shell.execute_reply": "2021-09-05T09:45:05.991085Z",
     "shell.execute_reply.started": "2021-09-05T09:42:06.664351Z"
    },
    "papermill": {
     "duration": 0.024056,
     "end_time": "2021-09-05T09:45:05.991253",
     "exception": false,
     "start_time": "2021-09-05T09:45:05.967197",
     "status": "completed"
    },
    "tags": []
   },
   "outputs": [
    {
     "name": "stdout",
     "output_type": "stream",
     "text": [
      "y_test shape is: (30,)\n"
     ]
    }
   ],
   "source": [
    "print(\"y_test shape is:\",y_test.shape)"
   ]
  },
  {
   "cell_type": "code",
   "execution_count": 16,
   "id": "ee2da7b4",
   "metadata": {
    "execution": {
     "iopub.execute_input": "2021-09-05T09:45:06.031037Z",
     "iopub.status.busy": "2021-09-05T09:45:06.030073Z",
     "iopub.status.idle": "2021-09-05T09:45:06.714021Z",
     "shell.execute_reply": "2021-09-05T09:45:06.713207Z",
     "shell.execute_reply.started": "2021-09-05T09:42:37.477128Z"
    },
    "papermill": {
     "duration": 0.70715,
     "end_time": "2021-09-05T09:45:06.714162",
     "exception": false,
     "start_time": "2021-09-05T09:45:06.007012",
     "status": "completed"
    },
    "tags": []
   },
   "outputs": [
    {
     "name": "stdout",
     "output_type": "stream",
     "text": [
      "Random Forest Regressor Train Score is :  0.9525534602529591\n",
      "Random Forest Regressor Test Score is :  0.9424995315094009\n",
      "Random Forest Regressor No. of features are :  6\n",
      "----------------------------------------------------\n",
      "Predicted Value for Random Forest Regressor is :  [ 5871.50204692 11165.66837116 19072.42143662  7820.6855406\n",
      "  8975.55261616 15979.18326558 13663.69157543 16947.66426253\n",
      " 13673.4227777  13341.85826242]\n"
     ]
    }
   ],
   "source": [
    "RandomForestRegressorModel = RandomForestRegressor(n_estimators=100,max_depth=9, random_state=33)\n",
    "RandomForestRegressorModel.fit(x_train, y_train)\n",
    "\n",
    "print('Random Forest Regressor Train Score is : ' , RandomForestRegressorModel.score(x_train, y_train))\n",
    "print('Random Forest Regressor Test Score is : ' , RandomForestRegressorModel.score(x_test, y_test))\n",
    "print('Random Forest Regressor No. of features are : ' , RandomForestRegressorModel.n_features_)\n",
    "print('----------------------------------------------------')\n",
    "\n",
    "y_pred = RandomForestRegressorModel.predict(x_test)\n",
    "print('Predicted Value for Random Forest Regressor is : ' , y_pred[:10])"
   ]
  },
  {
   "cell_type": "code",
   "execution_count": 17,
   "id": "3b376645",
   "metadata": {
    "execution": {
     "iopub.execute_input": "2021-09-05T09:45:06.754821Z",
     "iopub.status.busy": "2021-09-05T09:45:06.754162Z",
     "iopub.status.idle": "2021-09-05T09:45:06.947824Z",
     "shell.execute_reply": "2021-09-05T09:45:06.948958Z",
     "shell.execute_reply.started": "2021-09-05T09:42:49.217654Z"
    },
    "papermill": {
     "duration": 0.21913,
     "end_time": "2021-09-05T09:45:06.949232",
     "exception": false,
     "start_time": "2021-09-05T09:45:06.730102",
     "status": "completed"
    },
    "tags": []
   },
   "outputs": [
    {
     "name": "stdout",
     "output_type": "stream",
     "text": [
      "Linear Regression Train Score is :  0.8350124865214883\n",
      "Linear Regression Test Score is :  0.8762527377681347\n",
      "Linear Regression Coef is :  [ 0.00000000e+00  1.32007844e+03 -9.44820300e+02 -6.30306905e-02\n",
      "  2.35115188e+03  6.18754043e+03]\n",
      "Linear Regression intercept is :  -2656823.279772705\n",
      "----------------------------------------------------\n",
      "Predicted Value for Linear Regression is :  [ 4474.86103652 14208.40986223 17484.24044203  7966.69826094\n",
      "  9381.58412118 17391.65697067 14034.37398086 18346.59862071\n",
      " 14180.4160908  14153.55575521]\n"
     ]
    }
   ],
   "source": [
    "LinearRegressionModel = LinearRegression(fit_intercept=True, normalize=True,copy_X=True,n_jobs=-1)\n",
    "LinearRegressionModel.fit(x_train, y_train)\n",
    "\n",
    "print('Linear Regression Train Score is : ' , LinearRegressionModel.score(x_train, y_train))\n",
    "print('Linear Regression Test Score is : ' , LinearRegressionModel.score(x_test, y_test))\n",
    "print('Linear Regression Coef is : ' , LinearRegressionModel.coef_)\n",
    "print('Linear Regression intercept is : ' , LinearRegressionModel.intercept_)\n",
    "print('----------------------------------------------------')\n",
    "\n",
    "y_pred = LinearRegressionModel.predict(x_test)\n",
    "print('Predicted Value for Linear Regression is : ' , y_pred[:10])"
   ]
  },
  {
   "cell_type": "code",
   "execution_count": 18,
   "id": "268df5dc",
   "metadata": {
    "execution": {
     "iopub.execute_input": "2021-09-05T09:45:07.024478Z",
     "iopub.status.busy": "2021-09-05T09:45:07.023181Z",
     "iopub.status.idle": "2021-09-05T09:45:07.056501Z",
     "shell.execute_reply": "2021-09-05T09:45:07.057169Z",
     "shell.execute_reply.started": "2021-09-05T09:43:18.254426Z"
    },
    "papermill": {
     "duration": 0.075219,
     "end_time": "2021-09-05T09:45:07.057423",
     "exception": false,
     "start_time": "2021-09-05T09:45:06.982204",
     "status": "completed"
    },
    "tags": []
   },
   "outputs": [
    {
     "name": "stdout",
     "output_type": "stream",
     "text": [
      "DecisionTreeRegressor Train Score is :  0.9500282103916018\n",
      "DecisionTreeRegressor Test Score is :  0.937178683958171\n",
      "----------------------------------------------------\n",
      "Predicted Value for DecisionTreeRegressorModel is :  [ 5760.66666667 10966.10067114 19056.84210526  7870.1\n",
      "  8868.41666667 15920.26666667 13809.50625    17092.0952381\n",
      " 13809.50625    13851.95238095]\n"
     ]
    }
   ],
   "source": [
    "DecisionTreeRegressorModel = DecisionTreeRegressor( max_depth=9,random_state=33)\n",
    "DecisionTreeRegressorModel.fit(x_train, y_train)\n",
    "\n",
    "print('DecisionTreeRegressor Train Score is : ' , DecisionTreeRegressorModel.score(x_train, y_train))\n",
    "print('DecisionTreeRegressor Test Score is : ' , DecisionTreeRegressorModel.score(x_test, y_test))\n",
    "print('----------------------------------------------------')\n",
    "\n",
    "y_pred = DecisionTreeRegressorModel.predict(x_test)\n",
    "print('Predicted Value for DecisionTreeRegressorModel is : ' , y_pred[:10])"
   ]
  },
  {
   "cell_type": "code",
   "execution_count": 19,
   "id": "f30f65e8",
   "metadata": {
    "execution": {
     "iopub.execute_input": "2021-09-05T09:45:07.097727Z",
     "iopub.status.busy": "2021-09-05T09:45:07.097010Z",
     "iopub.status.idle": "2021-09-05T09:45:07.100360Z",
     "shell.execute_reply": "2021-09-05T09:45:07.101273Z",
     "shell.execute_reply.started": "2021-09-05T09:43:34.994654Z"
    },
    "papermill": {
     "duration": 0.026152,
     "end_time": "2021-09-05T09:45:07.101496",
     "exception": false,
     "start_time": "2021-09-05T09:45:07.075344",
     "status": "completed"
    },
    "tags": []
   },
   "outputs": [
    {
     "name": "stdout",
     "output_type": "stream",
     "text": [
      "Mean Squared Error Value is :  1231071.098046991\n"
     ]
    }
   ],
   "source": [
    "MSEValue = mean_squared_error(y_test, y_pred, multioutput='uniform_average') # it can be raw_values\n",
    "print('Mean Squared Error Value is : ', MSEValue)"
   ]
  },
  {
   "cell_type": "code",
   "execution_count": null,
   "id": "e681b451",
   "metadata": {
    "papermill": {
     "duration": 0.017274,
     "end_time": "2021-09-05T09:45:07.136508",
     "exception": false,
     "start_time": "2021-09-05T09:45:07.119234",
     "status": "completed"
    },
    "tags": []
   },
   "outputs": [],
   "source": []
  }
 ],
 "metadata": {
  "kernelspec": {
   "display_name": "Python 3",
   "language": "python",
   "name": "python3"
  },
  "language_info": {
   "codemirror_mode": {
    "name": "ipython",
    "version": 3
   },
   "file_extension": ".py",
   "mimetype": "text/x-python",
   "name": "python",
   "nbconvert_exporter": "python",
   "pygments_lexer": "ipython3",
   "version": "3.7.10"
  },
  "papermill": {
   "default_parameters": {},
   "duration": 10.508598,
   "end_time": "2021-09-05T09:45:07.862144",
   "environment_variables": {},
   "exception": null,
   "input_path": "__notebook__.ipynb",
   "output_path": "__notebook__.ipynb",
   "parameters": {},
   "start_time": "2021-09-05T09:44:57.353546",
   "version": "2.3.3"
  }
 },
 "nbformat": 4,
 "nbformat_minor": 5
}
